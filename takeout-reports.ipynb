{
 "cells": [
  {
   "cell_type": "markdown",
   "metadata": {},
   "source": [
    "# Fitbit Foodlog + Activity\n",
    "## From Takeout\n",
    "### Setup the basics"
   ]
  },
  {
   "cell_type": "code",
   "execution_count": null,
   "metadata": {},
   "outputs": [],
   "source": [
    "# Install dependancies\n",
    "# sudo apt-get install texlive-xetex texlive-fonts-recommended texlive-plain-generic\n",
    "! pip install pandas matplotlib nbconvert PyPDF2"
   ]
  },
  {
   "cell_type": "code",
   "execution_count": 52,
   "metadata": {},
   "outputs": [],
   "source": [
    "\n",
    "# Importing required libraries\n",
    "import os, json\n",
    "import pandas as pd\n",
    "from IPython.display import display, HTML\n",
    "import matplotlib.pyplot as plt\n",
    "\n",
    "# Global Options\n",
    "pd.set_option('display.max_rows', None)"
   ]
  },
  {
   "cell_type": "markdown",
   "metadata": {},
   "source": [
    "Import the takeout data and generate pandas dataframes for each set of data"
   ]
  },
  {
   "cell_type": "code",
   "execution_count": null,
   "metadata": {},
   "outputs": [],
   "source": [
    "# Importing the Takeout data\n",
    "root_folder = './dataset/takeout/Takeout/Fitbit'\n",
    "dataframes_list = {}\n",
    "\n",
    "for relpath, dirs, files in os.walk(root_folder):\n",
    "  folder_name = os.path.basename(relpath)\n",
    "  dataframes = []\n",
    "  for file in files:\n",
    "    custom_name = None\n",
    "    file_path = os.path.join(relpath, file)\n",
    "    df = None\n",
    "    name = None\n",
    "    # Handle files in Global Export Data seperately\n",
    "    if folder_name == \"Global Export Data\":\n",
    "      if file.startswith('food_logs'):\n",
    "        df = pd.read_json(file_path)\n",
    "        name = \"Food Log\"\n",
    "      elif file.startswith('water_logs'):\n",
    "        df = pd.read_json(file_path)\n",
    "        name = \"Water Log\"\n",
    "      elif file.startswith('weight'):\n",
    "        df = pd.read_json(file_path)\n",
    "        name = \"Weight\"\n",
    "      else:\n",
    "        continue\n",
    "    # Import CSV/JSON from other folders\n",
    "    else:\n",
    "      if file.endswith('.csv'):\n",
    "        df = pd.read_csv(file_path)\n",
    "        name = folder_name\n",
    "      elif file.endswith('.json'):\n",
    "        df = pd.read_json(file_path)\n",
    "        name = folder_name\n",
    "    # # Add non-empty dataframes to the output\n",
    "    if df is not None and not df.empty and not df.isna().all().all():\n",
    "      if name in dataframes_list:\n",
    "        dataframes_list[name].append(df)\n",
    "      else:\n",
    "        dataframes_list[name] = [df]\n",
    "\n",
    "# Concatenate DataFrames\n",
    "for name, dfs in dataframes_list.items():\n",
    "  if dfs:\n",
    "    concatenated_df = pd.concat(dfs, ignore_index=True)\n",
    "    dataframes_list[name] \n",
    "\n",
    "# Function for displaying dataframe contents   \n",
    "def get_log(name):\n",
    "  df_list = dataframes_list.get(name)\n",
    "  df = pd.concat(df_list, ignore_index=True)\n",
    "  return df\n",
    "\n",
    "# Function for displaying a bar graph\n",
    "def bar_graph(df,xaxis,yaxis,title,figsize):\n",
    "  df = df.groupby(xaxis, as_index=False).agg({yaxis: 'sum'})\n",
    "  plt.bar(df[xaxis], df[yaxis])\n",
    "  plt.title(title)\n",
    "  plt.xlabel(xaxis)\n",
    "  plt.ylabel(yaxis)\n",
    "  plt.xticks(rotation=80)\n",
    "  plt.grid(True)\n",
    "  return plt"
   ]
  },
  {
   "cell_type": "code",
   "execution_count": null,
   "metadata": {},
   "outputs": [],
   "source": [
    "for name, df in dataframes_list.items():\n",
    "    print(f\"DataFrame: {name}\")"
   ]
  },
  {
   "cell_type": "markdown",
   "metadata": {},
   "source": [
    "### Display Food Log"
   ]
  },
  {
   "cell_type": "code",
   "execution_count": null,
   "metadata": {},
   "outputs": [],
   "source": [
    "fl = get_log('Food Log')\n",
    "# Parse the food log JSON\n",
    "fl_logged = pd.json_normalize(fl['loggedFood'])\n",
    "# Combine with original dataframe\n",
    "fl = fl.drop(columns=['loggedFood']).join(fl_logged)\n",
    "# Display only usable data\n",
    "# Mapping dictionary\n",
    "meal_type_mapping = {\n",
    "    1: 'Breakfast',\n",
    "    2: 'Morning Snack',\n",
    "    3: 'Lunch',\n",
    "    4: 'Afternoon Snack',\n",
    "    5: 'Dinner',\n",
    "    6: 'Evening Snack'\n",
    "}\n",
    "fl['mealType'] = fl['mealTypeId'].map(meal_type_mapping)\n",
    "disfl = fl[['logDate','brand','name','calories','amount','unit.name','mealType']]\n",
    "disfl.columns = ['Date','Brand','Name','Calories','Amount','Units','Meal']\n",
    "\n",
    "# Display as a nice HTML table\n",
    "display(HTML(disfl.to_html(index=False)))"
   ]
  },
  {
   "cell_type": "markdown",
   "metadata": {},
   "source": [
    "### Display Water Log (Raw Data)"
   ]
  },
  {
   "cell_type": "code",
   "execution_count": null,
   "metadata": {},
   "outputs": [],
   "source": [
    "wl = get_log('Water Log')\n",
    "diswl = wl[['date','waterAmount','measurementUnit']]\n",
    "diswl = wl.groupby('date', as_index=False).agg({\n",
    "  'waterAmount': 'sum',\n",
    "  'measurementUnit': 'first'\n",
    "  })\n",
    "diswl.columns = ['Date','Water Amount','Units']\n",
    "display(diswl.style.hide(axis='index'))"
   ]
  },
  {
   "cell_type": "markdown",
   "metadata": {},
   "source": [
    "### Calories per day"
   ]
  },
  {
   "cell_type": "code",
   "execution_count": null,
   "metadata": {},
   "outputs": [],
   "source": [
    "# Plotting the graph\n",
    "bar_graph(disfl, 'Date','Calories','Calorie Intake per Day',(10,6))\n",
    "\n",
    "# Display the plot\n",
    "plt.show()\n"
   ]
  }
 ],
 "metadata": {
  "kernelspec": {
   "display_name": "Python 3",
   "language": "python",
   "name": "python3"
  },
  "language_info": {
   "codemirror_mode": {
    "name": "ipython",
    "version": 3
   },
   "file_extension": ".py",
   "mimetype": "text/x-python",
   "name": "python",
   "nbconvert_exporter": "python",
   "pygments_lexer": "ipython3",
   "version": "3.10.12"
  }
 },
 "nbformat": 4,
 "nbformat_minor": 2
}
