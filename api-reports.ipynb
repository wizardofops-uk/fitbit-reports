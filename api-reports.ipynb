{
 "cells": [
  {
   "cell_type": "markdown",
   "metadata": {},
   "source": [
    "# Fitbit Foodlog + Activity\n",
    "## From fitbit API\n",
    "### Setup the basics"
   ]
  },
  {
   "cell_type": "markdown",
   "metadata": {},
   "source": [
    "Import the api dataset and generate pandas dataframes for each set of data"
   ]
  },
  {
   "cell_type": "code",
   "execution_count": 19,
   "metadata": {},
   "outputs": [],
   "source": [
    "# Import Modules\n",
    "import os, json\n",
    "import pandas as pd\n",
    "import pdfkit as pdf\n",
    "from IPython.display import display, HTML\n",
    "import matplotlib.pyplot as plt\n",
    "import warnings\n",
    "\n",
    "# Global Settings\n",
    "root_folder = './dataset/api'\n",
    "warnings.filterwarnings('ignore')\n",
    "\n",
    "# Load Data\n",
    "df_prof = pd.read_json(f\"{root_folder}/profile.json\")\n",
    "df_nutri = pd.read_json(f\"{root_folder}/nutrition.json\")\n",
    "# df_weight = pd.read_json(f\"{root_folder}/weight.json\")\n",
    "# df_bfat = pd.read_json(f\"{root_folder}/bodyfat.json\")\n",
    "\n",
    "# Function for displaying a bar graph\n",
    "def bar_graph(df,xaxis,yaxis,title,figsize):\n",
    "  df = df.groupby(xaxis, as_index=False).agg({yaxis: 'sum'})\n",
    "  plt.bar(df[xaxis], df[yaxis])\n",
    "  plt.title(title)\n",
    "  plt.xlabel(xaxis)\n",
    "  plt.ylabel(yaxis)\n",
    "  plt.xticks(rotation=80)\n",
    "  plt.grid(True)\n",
    "  return plt\n",
    "\n",
    "meal_type_mapping = {\n",
    "    1: 'Breakfast',\n",
    "    2: 'Morning Snack',\n",
    "    3: 'Lunch',\n",
    "    4: 'Afternoon Snack',\n",
    "    5: 'Dinner',\n",
    "    6: 'Evening Snack'\n",
    "}\n"
   ]
  },
  {
   "cell_type": "markdown",
   "metadata": {},
   "source": [
    "### Produce Nutrition Report"
   ]
  },
  {
   "cell_type": "code",
   "execution_count": 26,
   "metadata": {},
   "outputs": [
    {
     "data": {
      "text/plain": [
       "True"
      ]
     },
     "execution_count": 26,
     "metadata": {},
     "output_type": "execute_result"
    }
   ],
   "source": [
    "df_nutri_list = []\n",
    "for index in df_nutri:\n",
    "  df_norm = pd.json_normalize(df_nutri[index].foods)\n",
    "  df = df_norm[[\n",
    "    'logDate',\n",
    "    'loggedFood.mealTypeId',\n",
    "    'loggedFood.brand',\n",
    "    'loggedFood.name',\n",
    "    'loggedFood.amount',\n",
    "    'loggedFood.unit.name',\n",
    "    'nutritionalValues.calories',\n",
    "    'nutritionalValues.carbs',\n",
    "    'nutritionalValues.fat',\n",
    "    'nutritionalValues.protein'\n",
    "    ]]\n",
    "  df.columns = ['Date','Meal','Brand','Name','Amount','Unit','Calories','Carbs','Fat','Protein']\n",
    "  df['Meal'] = df['Meal'].map(meal_type_mapping)\n",
    "  df.loc[\"Total\"] = df.sum(numeric_only=True).rename('Total')\n",
    "  df_disp = df.style.format({'Amount':'{:.0f}', 'Calories':'{:.0f}', 'Carbs': '{:.2f}', 'Fat': '{:.2f}', 'Protein': '{:.2f}' })\n",
    "  df_nutri_list.append(df_disp)\n",
    "\n",
    "html_list = []\n",
    "for df in df_nutri_list:\n",
    "    dfhtml = df.to_html()\n",
    "    html_list.append(dfhtml)\n",
    "\n",
    "\n",
    "html = \"\"\"\n",
    "<html>\n",
    "  <head>\n",
    "    <style> \n",
    "      body {font-family: Arial, sans-serif;}\n",
    "      th, td {text-align: justify;}\n",
    "    </style>\n",
    "  </head>\n",
    "<body>\n",
    "  <h1>Report on Nutrition</h1>\n",
    "\"\"\"\n",
    "html += '<br />'.join(html_list)\n",
    "html += '</body></html>'\n",
    "\n",
    "html_path = f'{root_folder}/nutrition.html'\n",
    "with open(html_path, 'w') as f:\n",
    "    f.write(html)\n",
    "\n",
    "pdffile = f'{root_folder}/nutrition.pdf'\n",
    "pdfopt = { 'page-size': 'A4', 'orientation': 'Landscape' }\n",
    "pdf.from_file(html_path, pdffile, options=pdfopt)\n"
   ]
  },
  {
   "cell_type": "markdown",
   "metadata": {},
   "source": [
    "### Calories per day"
   ]
  },
  {
   "cell_type": "code",
   "execution_count": 21,
   "metadata": {},
   "outputs": [],
   "source": [
    "# # Plotting the graph\n",
    "# bar_graph(df_weight,'Date','Weight','Weight Graph'(10,6))\n",
    "\n",
    "# # Display the plot\n",
    "# plt.show()\n"
   ]
  }
 ],
 "metadata": {
  "kernelspec": {
   "display_name": "Python 3",
   "language": "python",
   "name": "python3"
  },
  "language_info": {
   "codemirror_mode": {
    "name": "ipython",
    "version": 3
   },
   "file_extension": ".py",
   "mimetype": "text/x-python",
   "name": "python",
   "nbconvert_exporter": "python",
   "pygments_lexer": "ipython3",
   "version": "3.10.12"
  }
 },
 "nbformat": 4,
 "nbformat_minor": 2
}
